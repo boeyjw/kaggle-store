{
  "nbformat": 4,
  "nbformat_minor": 0,
  "metadata": {
    "colab": {
      "provenance": [],
      "mount_file_id": "1J1s72WIHU6eyNKk4U3IGE3UNL8TvNLrH",
      "authorship_tag": "ABX9TyOPCVV1UmQmbAZRqKIPZ1cC",
      "include_colab_link": true
    },
    "kernelspec": {
      "name": "python3",
      "display_name": "Python 3"
    },
    "language_info": {
      "name": "python"
    }
  },
  "cells": [
    {
      "cell_type": "markdown",
      "metadata": {
        "id": "view-in-github",
        "colab_type": "text"
      },
      "source": [
        "<a href=\"https://colab.research.google.com/github/boeyjw/kaggle-store/blob/main/2024/S04E02_Obesity/03_FeatEng.ipynb\" target=\"_parent\"><img src=\"https://colab.research.google.com/assets/colab-badge.svg\" alt=\"Open In Colab\"/></a>"
      ]
    },
    {
      "cell_type": "markdown",
      "source": [
        "# Init"
      ],
      "metadata": {
        "id": "H_jtjHODL9vS"
      }
    },
    {
      "cell_type": "code",
      "execution_count": null,
      "metadata": {
        "id": "ivT_VKZYLbtZ"
      },
      "outputs": [],
      "source": [
        "from pathlib import Path\n",
        "\n",
        "import numpy as np\n",
        "import scipy.stats as ss\n",
        "import pandas as pd\n",
        "import matplotlib.pyplot as plt\n",
        "import seaborn as sns\n",
        "import joblib\n",
        "\n",
        "from sklearn.model_selection import train_test_split\n",
        "from sklearn.feature_selection import mutual_info_classif\n",
        "from sklearn.preprocessing import OneHotEncoder\n",
        "from sklearn.compose import ColumnTransformer\n",
        "\n",
        "from prettytable import PrettyTable"
      ]
    },
    {
      "cell_type": "code",
      "source": [
        "SEED = 1234567890\n",
        "LABEL = \"nobeyesdad\"\n",
        "data_p = Path(\"/content/drive/MyDrive/Colab Notebooks/2024/S04E02_Obesity\")\n",
        "\n",
        "train = pd.read_csv(data_p / \"train.csv.gz\").rename(columns=lambda x: x.strip().lower()).set_index(\"id\")\n",
        "test = pd.read_csv(data_p / \"test.csv.gz\").rename(columns=lambda x: x.strip().lower()).set_index(\"id\")\n",
        "\n",
        "# X_train, X_val, y_train, y_val = train_test_split(train.drop(columns=[LABEL]), train[LABEL], test_size=0.2, stratify=train[LABEL], random_state=SEED)\n",
        "# X_train.shape, X_val.shape"
      ],
      "metadata": {
        "id": "2uaSRgZzMFsH"
      },
      "execution_count": null,
      "outputs": []
    },
    {
      "cell_type": "markdown",
      "source": [
        "# Feature Engineering\n",
        "\n",
        "## Univariate"
      ],
      "metadata": {
        "id": "nbkObr9qFIdg"
      }
    },
    {
      "cell_type": "code",
      "source": [
        "def uni_feateng(df):\n",
        "    df[\"_binned_age\"] = pd.cut(df[\"age\"], bins=[0, 18, 30, 40, 9999], right=False, labels=[0, 1, 2, 3]).astype(int)\n",
        "    # df[\"_height\"] = df[\"height\"].clip(lower=1.5, upper=1.9)\n",
        "    # df[\"_weight\"] = df[\"weight\"].clip(lower=40)\n",
        "    df[\"_binned_fcvc\"] = pd.cut(df[\"fcvc\"], bins=[0, 1.0, 1.5, 2.0, 2.5, 3.0], right=True, labels=[1.0, 1.5, 2.0, 2.5, 3.0]).astype(float)\n",
        "    df[\"_binned_ncp\"] = pd.cut(df[\"ncp\"], bins=[0, 1.0, 3.0, 4.0], right=True, labels=[1, 3, 4]).astype(int)\n",
        "    df[\"_binned_ch2o\"] = pd.cut(df[\"ch2o\"], bins=[0, 1.0, 2.0, 3.0], right=True, labels=[1, 2, 3]).astype(int)\n",
        "    df[\"_binned_faf\"] = pd.cut(df[\"faf\"], bins=[-1, 0, 1.0, 2.0, 3.0], right=True, labels=[0, 1, 2, 3]).astype(int)\n",
        "    df[\"_binned_tue\"] = pd.cut(df[\"tue\"], bins=[-1, 0, 1.0, 2.0], right=True, labels=[0, 1, 2]).astype(int)\n",
        "    df[\"_calc\"] = df[\"calc\"]\n",
        "    df.loc[df[\"_calc\"] == \"Always\", \"_calc\"] = \"Frequently\"\n",
        "    df[\"_exercise\"] = np.where(df[\"mtrans\"].isin([\"Automobile\", \"Motorbike\"]), \"No\", \"Yes\")\n",
        "    df.loc[df[\"mtrans\"] == \"Public_Transportation\", \"_exercise\"] = \"Public_Transportation\""
      ],
      "metadata": {
        "id": "zop3yKqGMnZs"
      },
      "execution_count": null,
      "outputs": []
    },
    {
      "cell_type": "code",
      "source": [
        "uni_feateng(train)\n",
        "uni_feateng(test)\n",
        "train.info()"
      ],
      "metadata": {
        "colab": {
          "base_uri": "https://localhost:8080/"
        },
        "id": "daX44VK-OJWy",
        "outputId": "43b55bf5-6a04-4bd0-eef4-f38618deeeeb"
      },
      "execution_count": null,
      "outputs": [
        {
          "output_type": "stream",
          "name": "stdout",
          "text": [
            "<class 'pandas.core.frame.DataFrame'>\n",
            "Int64Index: 20758 entries, 0 to 20757\n",
            "Data columns (total 25 columns):\n",
            " #   Column                          Non-Null Count  Dtype  \n",
            "---  ------                          --------------  -----  \n",
            " 0   gender                          20758 non-null  object \n",
            " 1   age                             20758 non-null  float64\n",
            " 2   height                          20758 non-null  float64\n",
            " 3   weight                          20758 non-null  float64\n",
            " 4   family_history_with_overweight  20758 non-null  object \n",
            " 5   favc                            20758 non-null  object \n",
            " 6   fcvc                            20758 non-null  float64\n",
            " 7   ncp                             20758 non-null  float64\n",
            " 8   caec                            20758 non-null  object \n",
            " 9   smoke                           20758 non-null  object \n",
            " 10  ch2o                            20758 non-null  float64\n",
            " 11  scc                             20758 non-null  object \n",
            " 12  faf                             20758 non-null  float64\n",
            " 13  tue                             20758 non-null  float64\n",
            " 14  calc                            20758 non-null  object \n",
            " 15  mtrans                          20758 non-null  object \n",
            " 16  nobeyesdad                      20758 non-null  object \n",
            " 17  _binned_age                     20758 non-null  int64  \n",
            " 18  _binned_fcvc                    20758 non-null  float64\n",
            " 19  _binned_ncp                     20758 non-null  int64  \n",
            " 20  _binned_ch2o                    20758 non-null  int64  \n",
            " 21  _binned_faf                     20758 non-null  int64  \n",
            " 22  _binned_tue                     20758 non-null  int64  \n",
            " 23  _calc                           20758 non-null  object \n",
            " 24  _exercise                       20758 non-null  object \n",
            "dtypes: float64(9), int64(5), object(11)\n",
            "memory usage: 4.1+ MB\n"
          ]
        }
      ]
    },
    {
      "cell_type": "code",
      "source": [
        "test.info()"
      ],
      "metadata": {
        "colab": {
          "base_uri": "https://localhost:8080/"
        },
        "id": "oaQhSokmYzS5",
        "outputId": "1e8ae9aa-90ca-4df5-c2d3-6de13dd5d7ef"
      },
      "execution_count": null,
      "outputs": [
        {
          "output_type": "stream",
          "name": "stdout",
          "text": [
            "<class 'pandas.core.frame.DataFrame'>\n",
            "Int64Index: 13840 entries, 20758 to 34597\n",
            "Data columns (total 24 columns):\n",
            " #   Column                          Non-Null Count  Dtype  \n",
            "---  ------                          --------------  -----  \n",
            " 0   gender                          13840 non-null  object \n",
            " 1   age                             13840 non-null  float64\n",
            " 2   height                          13840 non-null  float64\n",
            " 3   weight                          13840 non-null  float64\n",
            " 4   family_history_with_overweight  13840 non-null  object \n",
            " 5   favc                            13840 non-null  object \n",
            " 6   fcvc                            13840 non-null  float64\n",
            " 7   ncp                             13840 non-null  float64\n",
            " 8   caec                            13840 non-null  object \n",
            " 9   smoke                           13840 non-null  object \n",
            " 10  ch2o                            13840 non-null  float64\n",
            " 11  scc                             13840 non-null  object \n",
            " 12  faf                             13840 non-null  float64\n",
            " 13  tue                             13840 non-null  float64\n",
            " 14  calc                            13840 non-null  object \n",
            " 15  mtrans                          13840 non-null  object \n",
            " 16  _binned_age                     13840 non-null  int64  \n",
            " 17  _binned_fcvc                    13840 non-null  float64\n",
            " 18  _binned_ncp                     13840 non-null  int64  \n",
            " 19  _binned_ch2o                    13840 non-null  int64  \n",
            " 20  _binned_faf                     13840 non-null  int64  \n",
            " 21  _binned_tue                     13840 non-null  int64  \n",
            " 22  _calc                           13840 non-null  object \n",
            " 23  _exercise                       13840 non-null  object \n",
            "dtypes: float64(9), int64(5), object(10)\n",
            "memory usage: 2.6+ MB\n"
          ]
        }
      ]
    },
    {
      "cell_type": "markdown",
      "source": [
        "## Multivariate"
      ],
      "metadata": {
        "id": "_wZR-ALDMWBM"
      }
    },
    {
      "cell_type": "code",
      "source": [
        "def multi_feateng(df):\n",
        "    df[\"_bmi\"] = df[\"weight\"] / (df[\"height\"]**2)\n",
        "    df[\"_binned_bmi\"] = pd.cut(df[\"_bmi\"], bins=[0, 18.5, 25, 30, 9999], labels=[\"Underweight\", \"Healthy\", \"Overweight\", \"Obese\"]).astype(str)\n",
        "    df[\"_habitually_unhealthy\"] = np.where(\n",
        "        (~df[\"_binned_bmi\"].isin([\"Underweight\", \"Healthy\"]))\n",
        "        & (df[\"family_history_with_overweight\"] == \"yes\")\n",
        "        & (df[\"_exercise\"] == \"No\")\n",
        "        & (df[\"favc\"] == \"yes\")\n",
        "        & (df[\"calc\"] != \"no\")\n",
        "    , \"yes\", \"no\")\n",
        "    df[\"_eating_habits\"] = \"Normal\"\n",
        "    df.loc[(df[\"ncp\"] <= 2) & (df[\"faf\"] >= 1), \"_eating_habits\"] = \"Under\"\n",
        "    df.loc[(df[\"ncp\"] >= 2) & (df[\"faf\"] < 1) & (df[\"caec\"] != \"no\"), \"_eating_habits\"] = \"Over\"\n",
        "    df[\"_health_conscious\"] = np.where(\n",
        "        (df[\"ncp\"] >= 2)\n",
        "        & (df[\"caec\"].isin([\"no\", \"Sometimes\"]))\n",
        "        & (df[\"_exercise\"].isin([\"Public_Transportation\", \"Yes\"]))\n",
        "        & (df[\"faf\"] >= 1)\n",
        "    , \"yes\", \"no\")\n",
        "    df[\"_devine_ideal\"] = np.where(\n",
        "        df[\"gender\"] == \"Female\",\n",
        "        np.where(df[\"weight\"] >= (45.5 + 0.9 * (df[\"height\"] * 100 - 152)), \"Over\", \"Ideal\"),\n",
        "        np.where(df[\"weight\"] >= (50 + 0.9 * (df[\"height\"] * 100 - 152)), \"Over\", \"Ideal\")\n",
        "    )"
      ],
      "metadata": {
        "id": "XJF7X_d3MVcS"
      },
      "execution_count": null,
      "outputs": []
    },
    {
      "cell_type": "code",
      "source": [
        "multi_feateng(train)\n",
        "multi_feateng(test)\n",
        "train.info()"
      ],
      "metadata": {
        "colab": {
          "base_uri": "https://localhost:8080/"
        },
        "id": "DVPQ29WHV8KE",
        "outputId": "2898502a-f0e6-4cfb-a5e3-10ee60095ffc"
      },
      "execution_count": null,
      "outputs": [
        {
          "output_type": "stream",
          "name": "stdout",
          "text": [
            "<class 'pandas.core.frame.DataFrame'>\n",
            "Int64Index: 20758 entries, 0 to 20757\n",
            "Data columns (total 31 columns):\n",
            " #   Column                          Non-Null Count  Dtype  \n",
            "---  ------                          --------------  -----  \n",
            " 0   gender                          20758 non-null  object \n",
            " 1   age                             20758 non-null  float64\n",
            " 2   height                          20758 non-null  float64\n",
            " 3   weight                          20758 non-null  float64\n",
            " 4   family_history_with_overweight  20758 non-null  object \n",
            " 5   favc                            20758 non-null  object \n",
            " 6   fcvc                            20758 non-null  float64\n",
            " 7   ncp                             20758 non-null  float64\n",
            " 8   caec                            20758 non-null  object \n",
            " 9   smoke                           20758 non-null  object \n",
            " 10  ch2o                            20758 non-null  float64\n",
            " 11  scc                             20758 non-null  object \n",
            " 12  faf                             20758 non-null  float64\n",
            " 13  tue                             20758 non-null  float64\n",
            " 14  calc                            20758 non-null  object \n",
            " 15  mtrans                          20758 non-null  object \n",
            " 16  nobeyesdad                      20758 non-null  object \n",
            " 17  _binned_age                     20758 non-null  int64  \n",
            " 18  _binned_fcvc                    20758 non-null  float64\n",
            " 19  _binned_ncp                     20758 non-null  int64  \n",
            " 20  _binned_ch2o                    20758 non-null  int64  \n",
            " 21  _binned_faf                     20758 non-null  int64  \n",
            " 22  _binned_tue                     20758 non-null  int64  \n",
            " 23  _calc                           20758 non-null  object \n",
            " 24  _exercise                       20758 non-null  object \n",
            " 25  _bmi                            20758 non-null  float64\n",
            " 26  _binned_bmi                     20758 non-null  object \n",
            " 27  _habitually_unhealthy           20758 non-null  object \n",
            " 28  _eating_habits                  20758 non-null  object \n",
            " 29  _health_conscious               20758 non-null  object \n",
            " 30  _devine_ideal                   20758 non-null  object \n",
            "dtypes: float64(10), int64(5), object(16)\n",
            "memory usage: 5.1+ MB\n"
          ]
        }
      ]
    },
    {
      "cell_type": "code",
      "source": [
        "test.info()"
      ],
      "metadata": {
        "colab": {
          "base_uri": "https://localhost:8080/"
        },
        "id": "BBzR-nnHY1YW",
        "outputId": "eb24c131-e3d3-47de-9e25-6dc8ebedcd2a"
      },
      "execution_count": null,
      "outputs": [
        {
          "output_type": "stream",
          "name": "stdout",
          "text": [
            "<class 'pandas.core.frame.DataFrame'>\n",
            "Int64Index: 13840 entries, 20758 to 34597\n",
            "Data columns (total 30 columns):\n",
            " #   Column                          Non-Null Count  Dtype  \n",
            "---  ------                          --------------  -----  \n",
            " 0   gender                          13840 non-null  object \n",
            " 1   age                             13840 non-null  float64\n",
            " 2   height                          13840 non-null  float64\n",
            " 3   weight                          13840 non-null  float64\n",
            " 4   family_history_with_overweight  13840 non-null  object \n",
            " 5   favc                            13840 non-null  object \n",
            " 6   fcvc                            13840 non-null  float64\n",
            " 7   ncp                             13840 non-null  float64\n",
            " 8   caec                            13840 non-null  object \n",
            " 9   smoke                           13840 non-null  object \n",
            " 10  ch2o                            13840 non-null  float64\n",
            " 11  scc                             13840 non-null  object \n",
            " 12  faf                             13840 non-null  float64\n",
            " 13  tue                             13840 non-null  float64\n",
            " 14  calc                            13840 non-null  object \n",
            " 15  mtrans                          13840 non-null  object \n",
            " 16  _binned_age                     13840 non-null  int64  \n",
            " 17  _binned_fcvc                    13840 non-null  float64\n",
            " 18  _binned_ncp                     13840 non-null  int64  \n",
            " 19  _binned_ch2o                    13840 non-null  int64  \n",
            " 20  _binned_faf                     13840 non-null  int64  \n",
            " 21  _binned_tue                     13840 non-null  int64  \n",
            " 22  _calc                           13840 non-null  object \n",
            " 23  _exercise                       13840 non-null  object \n",
            " 24  _bmi                            13840 non-null  float64\n",
            " 25  _binned_bmi                     13840 non-null  object \n",
            " 26  _habitually_unhealthy           13840 non-null  object \n",
            " 27  _eating_habits                  13840 non-null  object \n",
            " 28  _health_conscious               13840 non-null  object \n",
            " 29  _devine_ideal                   13840 non-null  object \n",
            "dtypes: float64(10), int64(5), object(15)\n",
            "memory usage: 3.3+ MB\n"
          ]
        }
      ]
    },
    {
      "cell_type": "code",
      "source": [
        "dropcols = [\"nobeyesdad\", \"age\", \"height\", \"weight\", \"fcvc\", \"ncp\", \"ch2o\", \"faf\", \"tue\", \"_bmi\", \"calc\"]\n",
        "df_mi = train.drop(columns=dropcols)\n",
        "col_transformer_mi = ColumnTransformer([\n",
        "    (\"ohe\", OneHotEncoder(drop=\"if_binary\", sparse_output=False).set_output(transform=\"pandas\"), df_mi.select_dtypes(include=object).columns)\n",
        "], verbose_feature_names_out=False, remainder=\"passthrough\").set_output(transform=\"pandas\").fit(df_mi)\n",
        "df_mi = col_transformer_mi.transform(df_mi)\n",
        "\n",
        "mi = mutual_info_classif(df_mi, train[\"nobeyesdad\"], n_neighbors=5)\n",
        "mi_tab = PrettyTable(field_names=[\"Variable\", \"MI\"], sortby=\"MI\", reversesort=True)\n",
        "mi_tab.add_rows(zip(list(col_transformer_mi.get_feature_names_out()), mi.round(4)))\n",
        "\n",
        "print(mi_tab)"
      ],
      "metadata": {
        "colab": {
          "base_uri": "https://localhost:8080/"
        },
        "id": "6jhlVDc-zjuw",
        "outputId": "437b8033-8f6b-4f5a-c445-ca4739d773ff"
      },
      "execution_count": null,
      "outputs": [
        {
          "output_type": "stream",
          "name": "stdout",
          "text": [
            "+------------------------------------+--------+\n",
            "|              Variable              |   MI   |\n",
            "+------------------------------------+--------+\n",
            "|         _binned_bmi_Obese          | 0.5783 |\n",
            "|         _devine_ideal_Over         | 0.3502 |\n",
            "|       _binned_bmi_Overweight       | 0.3374 |\n",
            "|        _binned_bmi_Healthy         | 0.2833 |\n",
            "|            _binned_fcvc            | 0.2765 |\n",
            "|      _binned_bmi_Underweight       | 0.2686 |\n",
            "|            gender_Male             | 0.2558 |\n",
            "| family_history_with_overweight_yes | 0.1685 |\n",
            "|            _binned_tue             | 0.1512 |\n",
            "|            _binned_age             | 0.1314 |\n",
            "|            _binned_ch2o            | 0.1286 |\n",
            "|           caec_Sometimes           | 0.1235 |\n",
            "|            _binned_ncp             | 0.1095 |\n",
            "|          caec_Frequently           | 0.1081 |\n",
            "|          _calc_Sometimes           | 0.1065 |\n",
            "|              _calc_no              | 0.0961 |\n",
            "|            _binned_faf             | 0.0838 |\n",
            "|     _habitually_unhealthy_yes      | 0.0653 |\n",
            "|  _exercise_Public_Transportation   | 0.0614 |\n",
            "|        _eating_habits_Over         | 0.0607 |\n",
            "|    mtrans_Public_Transportation    | 0.0571 |\n",
            "|            _exercise_No            | 0.0557 |\n",
            "|         mtrans_Automobile          | 0.0531 |\n",
            "|              favc_yes              | 0.0418 |\n",
            "|        _eating_habits_Under        | 0.0341 |\n",
            "|       _eating_habits_Normal        | 0.0282 |\n",
            "|              scc_yes               | 0.025  |\n",
            "|            caec_Always             | 0.0154 |\n",
            "|              caec_no               | 0.015  |\n",
            "|          _calc_Frequently          | 0.0125 |\n",
            "|           mtrans_Walking           | 0.0109 |\n",
            "|             smoke_yes              | 0.0091 |\n",
            "|           _exercise_Yes            | 0.0077 |\n",
            "|       _health_conscious_yes        | 0.0045 |\n",
            "|            mtrans_Bike             | 0.0012 |\n",
            "|          mtrans_Motorbike          |  0.0   |\n",
            "+------------------------------------+--------+\n"
          ]
        }
      ]
    },
    {
      "cell_type": "code",
      "source": [
        "pd.pivot_table(train, index=\"nobeyesdad\", columns=\"_devine_ideal\", values=\"weight\", aggfunc=\"mean\")"
      ],
      "metadata": {
        "id": "ufAWRqzuW0PK",
        "colab": {
          "base_uri": "https://localhost:8080/",
          "height": 300
        },
        "outputId": "d647a74a-783a-48a3-c65a-3251019a0c33"
      },
      "execution_count": null,
      "outputs": [
        {
          "output_type": "execute_result",
          "data": {
            "text/plain": [
              "_devine_ideal            Ideal        Over\n",
              "nobeyesdad                                \n",
              "Insufficient_Weight  49.696288   56.080828\n",
              "Normal_Weight        59.425740   63.167368\n",
              "Obesity_Type_I       46.734258   92.418122\n",
              "Obesity_Type_II            NaN  115.995914\n",
              "Obesity_Type_III     42.000000  117.716166\n",
              "Overweight_Level_I   65.736826   74.484162\n",
              "Overweight_Level_II  64.250000   82.113845"
            ],
            "text/html": [
              "\n",
              "  <div id=\"df-61452f1e-6f50-4fcb-bb85-969e8aad5653\" class=\"colab-df-container\">\n",
              "    <div>\n",
              "<style scoped>\n",
              "    .dataframe tbody tr th:only-of-type {\n",
              "        vertical-align: middle;\n",
              "    }\n",
              "\n",
              "    .dataframe tbody tr th {\n",
              "        vertical-align: top;\n",
              "    }\n",
              "\n",
              "    .dataframe thead th {\n",
              "        text-align: right;\n",
              "    }\n",
              "</style>\n",
              "<table border=\"1\" class=\"dataframe\">\n",
              "  <thead>\n",
              "    <tr style=\"text-align: right;\">\n",
              "      <th>_devine_ideal</th>\n",
              "      <th>Ideal</th>\n",
              "      <th>Over</th>\n",
              "    </tr>\n",
              "    <tr>\n",
              "      <th>nobeyesdad</th>\n",
              "      <th></th>\n",
              "      <th></th>\n",
              "    </tr>\n",
              "  </thead>\n",
              "  <tbody>\n",
              "    <tr>\n",
              "      <th>Insufficient_Weight</th>\n",
              "      <td>49.696288</td>\n",
              "      <td>56.080828</td>\n",
              "    </tr>\n",
              "    <tr>\n",
              "      <th>Normal_Weight</th>\n",
              "      <td>59.425740</td>\n",
              "      <td>63.167368</td>\n",
              "    </tr>\n",
              "    <tr>\n",
              "      <th>Obesity_Type_I</th>\n",
              "      <td>46.734258</td>\n",
              "      <td>92.418122</td>\n",
              "    </tr>\n",
              "    <tr>\n",
              "      <th>Obesity_Type_II</th>\n",
              "      <td>NaN</td>\n",
              "      <td>115.995914</td>\n",
              "    </tr>\n",
              "    <tr>\n",
              "      <th>Obesity_Type_III</th>\n",
              "      <td>42.000000</td>\n",
              "      <td>117.716166</td>\n",
              "    </tr>\n",
              "    <tr>\n",
              "      <th>Overweight_Level_I</th>\n",
              "      <td>65.736826</td>\n",
              "      <td>74.484162</td>\n",
              "    </tr>\n",
              "    <tr>\n",
              "      <th>Overweight_Level_II</th>\n",
              "      <td>64.250000</td>\n",
              "      <td>82.113845</td>\n",
              "    </tr>\n",
              "  </tbody>\n",
              "</table>\n",
              "</div>\n",
              "    <div class=\"colab-df-buttons\">\n",
              "\n",
              "  <div class=\"colab-df-container\">\n",
              "    <button class=\"colab-df-convert\" onclick=\"convertToInteractive('df-61452f1e-6f50-4fcb-bb85-969e8aad5653')\"\n",
              "            title=\"Convert this dataframe to an interactive table.\"\n",
              "            style=\"display:none;\">\n",
              "\n",
              "  <svg xmlns=\"http://www.w3.org/2000/svg\" height=\"24px\" viewBox=\"0 -960 960 960\">\n",
              "    <path d=\"M120-120v-720h720v720H120Zm60-500h600v-160H180v160Zm220 220h160v-160H400v160Zm0 220h160v-160H400v160ZM180-400h160v-160H180v160Zm440 0h160v-160H620v160ZM180-180h160v-160H180v160Zm440 0h160v-160H620v160Z\"/>\n",
              "  </svg>\n",
              "    </button>\n",
              "\n",
              "  <style>\n",
              "    .colab-df-container {\n",
              "      display:flex;\n",
              "      gap: 12px;\n",
              "    }\n",
              "\n",
              "    .colab-df-convert {\n",
              "      background-color: #E8F0FE;\n",
              "      border: none;\n",
              "      border-radius: 50%;\n",
              "      cursor: pointer;\n",
              "      display: none;\n",
              "      fill: #1967D2;\n",
              "      height: 32px;\n",
              "      padding: 0 0 0 0;\n",
              "      width: 32px;\n",
              "    }\n",
              "\n",
              "    .colab-df-convert:hover {\n",
              "      background-color: #E2EBFA;\n",
              "      box-shadow: 0px 1px 2px rgba(60, 64, 67, 0.3), 0px 1px 3px 1px rgba(60, 64, 67, 0.15);\n",
              "      fill: #174EA6;\n",
              "    }\n",
              "\n",
              "    .colab-df-buttons div {\n",
              "      margin-bottom: 4px;\n",
              "    }\n",
              "\n",
              "    [theme=dark] .colab-df-convert {\n",
              "      background-color: #3B4455;\n",
              "      fill: #D2E3FC;\n",
              "    }\n",
              "\n",
              "    [theme=dark] .colab-df-convert:hover {\n",
              "      background-color: #434B5C;\n",
              "      box-shadow: 0px 1px 3px 1px rgba(0, 0, 0, 0.15);\n",
              "      filter: drop-shadow(0px 1px 2px rgba(0, 0, 0, 0.3));\n",
              "      fill: #FFFFFF;\n",
              "    }\n",
              "  </style>\n",
              "\n",
              "    <script>\n",
              "      const buttonEl =\n",
              "        document.querySelector('#df-61452f1e-6f50-4fcb-bb85-969e8aad5653 button.colab-df-convert');\n",
              "      buttonEl.style.display =\n",
              "        google.colab.kernel.accessAllowed ? 'block' : 'none';\n",
              "\n",
              "      async function convertToInteractive(key) {\n",
              "        const element = document.querySelector('#df-61452f1e-6f50-4fcb-bb85-969e8aad5653');\n",
              "        const dataTable =\n",
              "          await google.colab.kernel.invokeFunction('convertToInteractive',\n",
              "                                                    [key], {});\n",
              "        if (!dataTable) return;\n",
              "\n",
              "        const docLinkHtml = 'Like what you see? Visit the ' +\n",
              "          '<a target=\"_blank\" href=https://colab.research.google.com/notebooks/data_table.ipynb>data table notebook</a>'\n",
              "          + ' to learn more about interactive tables.';\n",
              "        element.innerHTML = '';\n",
              "        dataTable['output_type'] = 'display_data';\n",
              "        await google.colab.output.renderOutput(dataTable, element);\n",
              "        const docLink = document.createElement('div');\n",
              "        docLink.innerHTML = docLinkHtml;\n",
              "        element.appendChild(docLink);\n",
              "      }\n",
              "    </script>\n",
              "  </div>\n",
              "\n",
              "\n",
              "<div id=\"df-0f82dca8-60bc-42c5-8e32-22ab30ea7e99\">\n",
              "  <button class=\"colab-df-quickchart\" onclick=\"quickchart('df-0f82dca8-60bc-42c5-8e32-22ab30ea7e99')\"\n",
              "            title=\"Suggest charts\"\n",
              "            style=\"display:none;\">\n",
              "\n",
              "<svg xmlns=\"http://www.w3.org/2000/svg\" height=\"24px\"viewBox=\"0 0 24 24\"\n",
              "     width=\"24px\">\n",
              "    <g>\n",
              "        <path d=\"M19 3H5c-1.1 0-2 .9-2 2v14c0 1.1.9 2 2 2h14c1.1 0 2-.9 2-2V5c0-1.1-.9-2-2-2zM9 17H7v-7h2v7zm4 0h-2V7h2v10zm4 0h-2v-4h2v4z\"/>\n",
              "    </g>\n",
              "</svg>\n",
              "  </button>\n",
              "\n",
              "<style>\n",
              "  .colab-df-quickchart {\n",
              "      --bg-color: #E8F0FE;\n",
              "      --fill-color: #1967D2;\n",
              "      --hover-bg-color: #E2EBFA;\n",
              "      --hover-fill-color: #174EA6;\n",
              "      --disabled-fill-color: #AAA;\n",
              "      --disabled-bg-color: #DDD;\n",
              "  }\n",
              "\n",
              "  [theme=dark] .colab-df-quickchart {\n",
              "      --bg-color: #3B4455;\n",
              "      --fill-color: #D2E3FC;\n",
              "      --hover-bg-color: #434B5C;\n",
              "      --hover-fill-color: #FFFFFF;\n",
              "      --disabled-bg-color: #3B4455;\n",
              "      --disabled-fill-color: #666;\n",
              "  }\n",
              "\n",
              "  .colab-df-quickchart {\n",
              "    background-color: var(--bg-color);\n",
              "    border: none;\n",
              "    border-radius: 50%;\n",
              "    cursor: pointer;\n",
              "    display: none;\n",
              "    fill: var(--fill-color);\n",
              "    height: 32px;\n",
              "    padding: 0;\n",
              "    width: 32px;\n",
              "  }\n",
              "\n",
              "  .colab-df-quickchart:hover {\n",
              "    background-color: var(--hover-bg-color);\n",
              "    box-shadow: 0 1px 2px rgba(60, 64, 67, 0.3), 0 1px 3px 1px rgba(60, 64, 67, 0.15);\n",
              "    fill: var(--button-hover-fill-color);\n",
              "  }\n",
              "\n",
              "  .colab-df-quickchart-complete:disabled,\n",
              "  .colab-df-quickchart-complete:disabled:hover {\n",
              "    background-color: var(--disabled-bg-color);\n",
              "    fill: var(--disabled-fill-color);\n",
              "    box-shadow: none;\n",
              "  }\n",
              "\n",
              "  .colab-df-spinner {\n",
              "    border: 2px solid var(--fill-color);\n",
              "    border-color: transparent;\n",
              "    border-bottom-color: var(--fill-color);\n",
              "    animation:\n",
              "      spin 1s steps(1) infinite;\n",
              "  }\n",
              "\n",
              "  @keyframes spin {\n",
              "    0% {\n",
              "      border-color: transparent;\n",
              "      border-bottom-color: var(--fill-color);\n",
              "      border-left-color: var(--fill-color);\n",
              "    }\n",
              "    20% {\n",
              "      border-color: transparent;\n",
              "      border-left-color: var(--fill-color);\n",
              "      border-top-color: var(--fill-color);\n",
              "    }\n",
              "    30% {\n",
              "      border-color: transparent;\n",
              "      border-left-color: var(--fill-color);\n",
              "      border-top-color: var(--fill-color);\n",
              "      border-right-color: var(--fill-color);\n",
              "    }\n",
              "    40% {\n",
              "      border-color: transparent;\n",
              "      border-right-color: var(--fill-color);\n",
              "      border-top-color: var(--fill-color);\n",
              "    }\n",
              "    60% {\n",
              "      border-color: transparent;\n",
              "      border-right-color: var(--fill-color);\n",
              "    }\n",
              "    80% {\n",
              "      border-color: transparent;\n",
              "      border-right-color: var(--fill-color);\n",
              "      border-bottom-color: var(--fill-color);\n",
              "    }\n",
              "    90% {\n",
              "      border-color: transparent;\n",
              "      border-bottom-color: var(--fill-color);\n",
              "    }\n",
              "  }\n",
              "</style>\n",
              "\n",
              "  <script>\n",
              "    async function quickchart(key) {\n",
              "      const quickchartButtonEl =\n",
              "        document.querySelector('#' + key + ' button');\n",
              "      quickchartButtonEl.disabled = true;  // To prevent multiple clicks.\n",
              "      quickchartButtonEl.classList.add('colab-df-spinner');\n",
              "      try {\n",
              "        const charts = await google.colab.kernel.invokeFunction(\n",
              "            'suggestCharts', [key], {});\n",
              "      } catch (error) {\n",
              "        console.error('Error during call to suggestCharts:', error);\n",
              "      }\n",
              "      quickchartButtonEl.classList.remove('colab-df-spinner');\n",
              "      quickchartButtonEl.classList.add('colab-df-quickchart-complete');\n",
              "    }\n",
              "    (() => {\n",
              "      let quickchartButtonEl =\n",
              "        document.querySelector('#df-0f82dca8-60bc-42c5-8e32-22ab30ea7e99 button');\n",
              "      quickchartButtonEl.style.display =\n",
              "        google.colab.kernel.accessAllowed ? 'block' : 'none';\n",
              "    })();\n",
              "  </script>\n",
              "</div>\n",
              "    </div>\n",
              "  </div>\n"
            ],
            "application/vnd.google.colaboratory.intrinsic+json": {
              "type": "dataframe",
              "summary": "{\n  \"name\": \"pd\",\n  \"rows\": 7,\n  \"fields\": [\n    {\n      \"column\": \"Ideal\",\n      \"properties\": {\n        \"dtype\": \"number\",\n        \"std\": 9.849929882465707,\n        \"min\": 42.0,\n        \"max\": 65.73682559154929,\n        \"samples\": [\n          49.696288458096014,\n          59.425740402674585,\n          64.25\n        ],\n        \"num_unique_values\": 6,\n        \"semantic_type\": \"\",\n        \"description\": \"\"\n      }\n    },\n    {\n      \"column\": \"Over\",\n      \"properties\": {\n        \"dtype\": \"number\",\n        \"std\": 24.190442029966203,\n        \"min\": 56.08082784615385,\n        \"max\": 117.71616589097651,\n        \"samples\": [\n          56.08082784615385,\n          63.16736801267282,\n          74.48416240500849\n        ],\n        \"num_unique_values\": 7,\n        \"semantic_type\": \"\",\n        \"description\": \"\"\n      }\n    }\n  ]\n}"
            }
          },
          "metadata": {},
          "execution_count": 82
        }
      ]
    },
    {
      "cell_type": "code",
      "source": [
        "train.to_csv(data_p / \"train_feateng.1.csv.gz\", index=True), test.to_csv(data_p / \"test_feateng.1.csv.gz\", index=True)"
      ],
      "metadata": {
        "colab": {
          "base_uri": "https://localhost:8080/"
        },
        "id": "jN6oBipJWC3H",
        "outputId": "5065bd87-27c6-4fe4-d15a-a13bea461205"
      },
      "execution_count": null,
      "outputs": [
        {
          "output_type": "execute_result",
          "data": {
            "text/plain": [
              "(None, None)"
            ]
          },
          "metadata": {},
          "execution_count": 13
        }
      ]
    },
    {
      "cell_type": "markdown",
      "source": [
        "## Overweight derived"
      ],
      "metadata": {
        "id": "-_sTC_s9o7F5"
      }
    },
    {
      "cell_type": "code",
      "source": [
        "def over_feateng(df):\n",
        "    pass"
      ],
      "metadata": {
        "id": "tX0jVkCgo64h"
      },
      "execution_count": null,
      "outputs": []
    },
    {
      "cell_type": "code",
      "source": [],
      "metadata": {
        "id": "c-49y_dWo_gI"
      },
      "execution_count": null,
      "outputs": []
    }
  ]
}