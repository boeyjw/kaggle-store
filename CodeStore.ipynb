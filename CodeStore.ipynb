{
  "nbformat": 4,
  "nbformat_minor": 0,
  "metadata": {
    "colab": {
      "provenance": [],
      "authorship_tag": "ABX9TyPKiwVN/lJJG2uXW/gZFIn3",
      "include_colab_link": true
    },
    "kernelspec": {
      "name": "python3",
      "display_name": "Python 3"
    },
    "language_info": {
      "name": "python"
    }
  },
  "cells": [
    {
      "cell_type": "markdown",
      "metadata": {
        "id": "view-in-github",
        "colab_type": "text"
      },
      "source": [
        "<a href=\"https://colab.research.google.com/github/boeyjw/kaggle-store/blob/main/CodeStore.ipynb\" target=\"_parent\"><img src=\"https://colab.research.google.com/assets/colab-badge.svg\" alt=\"Open In Colab\"/></a>"
      ]
    },
    {
      "cell_type": "markdown",
      "source": [
        "# Logodds"
      ],
      "metadata": {
        "id": "D-x7or_cDdZz"
      }
    },
    {
      "cell_type": "code",
      "execution_count": null,
      "metadata": {
        "id": "o5152pwmDcA0"
      },
      "outputs": [],
      "source": [
        "def logodds(x):\n",
        "    if not len(x):\n",
        "        return 0\n",
        "    event_dist = sum(x[\"smoking\"]) / len(x)\n",
        "    non_event_dist = sum(x[\"smoking\"] == 0) / len(x)\n",
        "\n",
        "    return np.log((event_dist + 0.001) / (non_event_dist + 0.001))"
      ]
    },
    {
      "cell_type": "markdown",
      "source": [
        "## WoE Transformer"
      ],
      "metadata": {
        "id": "5imF2-2xDfmz"
      }
    },
    {
      "cell_type": "code",
      "source": [
        "class WOETransformer(BaseEstimator, TransformerMixin, ClassNamePrefixFeaturesOutMixin):\n",
        "    def __init__(self, eps: float = 0.001):\n",
        "        self.woe_mapping_ = {}\n",
        "        self.eps = eps\n",
        "\n",
        "    def __sklearn_clone__(self):\n",
        "        return self\n",
        "\n",
        "\n",
        "    def fit(self, X, y=None):\n",
        "        def logodds(x):\n",
        "            if not len(x):\n",
        "                return 0\n",
        "            event_dist = sum(x) / len(x)\n",
        "            non_event_dist = sum(x == 0) / len(x)\n",
        "\n",
        "            return np.log((event_dist + self.eps) / (non_event_dist + self.eps))\n",
        "        # check_X_y(X, y, accept_sparse=False)\n",
        "\n",
        "        Xy = pd.concat([X, y.astype(int).to_frame(\"target\")], axis=1)\n",
        "        self.feature_names_in_ = X.columns.tolist()\n",
        "        self.n_features_ = X.shape[1]\n",
        "\n",
        "        del X, y\n",
        "\n",
        "        for c in self.feature_names_in_:\n",
        "            self.woe_mapping_[c] = Xy.groupby(c)[\"target\"].apply(logodds).to_dict()\n",
        "\n",
        "        self._n_features_out = len(self.woe_mapping_)\n",
        "        self.is_fitted_ = True\n",
        "\n",
        "        return self\n",
        "\n",
        "    def transform(self, X):\n",
        "        check_is_fitted(self, \"is_fitted_\")\n",
        "        if X.shape[1] != self.n_features_:\n",
        "            raise ValueError('Shape of input is different from what was seen'\n",
        "                             'in `fit`')\n",
        "\n",
        "        for c in X.columns:\n",
        "            X.loc[:, c] = X[c].map(self.woe_mapping_[c])\n",
        "\n",
        "        return X.values\n",
        "\n",
        "    def get_feature_names_out(self, input_features=None):\n",
        "        return [c for c in self.feature_names_in_]\n",
        "\n",
        "class MulticlassWOETransformer(BaseEstimator, TransformerMixin, ClassNamePrefixFeaturesOutMixin):\n",
        "    def __init__(self, eps: float = 0.001):\n",
        "        self.woe_mapping_ = {}\n",
        "        self.eps = eps\n",
        "\n",
        "    def __sklearn_clone__(self):\n",
        "        return self\n",
        "\n",
        "    def fit(self, X, y=None):\n",
        "        def logodds(x):\n",
        "            if not len(x):\n",
        "                return 0\n",
        "            event_dist = sum(x) / len(x)\n",
        "            non_event_dist = sum(x == 0) / len(x)\n",
        "\n",
        "            return np.log((event_dist + self.eps) / (non_event_dist + self.eps))\n",
        "        # check_X_y(X, y, accept_sparse=False)\n",
        "\n",
        "        yy = y.copy(deep=True)\n",
        "        del y\n",
        "\n",
        "        yy = yy.to_frame(\"target\")\n",
        "        for i in yy[\"target\"].unique():\n",
        "            yy[f\"target_{i}\"] = np.where(yy[\"target\"] == i, 1, 0)\n",
        "        Xy = pd.concat([X, yy.drop(columns=[\"target\"])], axis=1)\n",
        "        self.feature_names_in_ = X.columns.tolist()\n",
        "        self.n_features_ = X.shape[1]\n",
        "\n",
        "        for c in self.feature_names_in_:\n",
        "            for t in yy.drop(columns=[\"target\"]).columns:\n",
        "                self.woe_mapping_[c + \"_\" + t.split(\"_\")[1]] = Xy.groupby(c)[t].apply(logodds).to_dict()\n",
        "\n",
        "        self._n_features_out = len(self.woe_mapping_)\n",
        "        self.is_fitted_ = True\n",
        "\n",
        "        return self\n",
        "\n",
        "    def transform(self, X):\n",
        "        check_is_fitted(self, \"is_fitted_\")\n",
        "        if X.shape[1] != self.n_features_:\n",
        "            raise ValueError('Shape of input is different from what was seen'\n",
        "                             'in `fit`')\n",
        "\n",
        "        X = X.assign(**{c: X[\"_\".join(c.split(\"_\")[:-1])].map(v) for c, v in self.woe_mapping_.items()})\n",
        "\n",
        "        return X[list(self.woe_mapping_.keys())].values\n",
        "\n",
        "    def get_feature_names_out(self, input_features=None):\n",
        "        return [c for c in self.woe_mapping_]"
      ],
      "metadata": {
        "id": "Bp-2rzlKDg1r"
      },
      "execution_count": null,
      "outputs": []
    },
    {
      "cell_type": "markdown",
      "source": [
        "# Sklearn Custom Classes"
      ],
      "metadata": {
        "id": "FDV-_Jy1QwZ6"
      }
    },
    {
      "cell_type": "markdown",
      "source": [
        "## Pipeline"
      ],
      "metadata": {
        "id": "AMZ4W15PQy_q"
      }
    },
    {
      "cell_type": "code",
      "source": [
        "class FitExposedPipeline(Pipeline):\n",
        "    \"\"\"\n",
        "    Exposes final pipeline estimator coef_ or feature_importances_\n",
        "    \"\"\"\n",
        "    @property\n",
        "    def coef_(self):\n",
        "        return self._final_estimator.coef_\n",
        "    @property\n",
        "    def feature_importances_(self):\n",
        "        return self._final_estimator.feature_importances_"
      ],
      "metadata": {
        "id": "NnWCgJxNQyGj"
      },
      "execution_count": null,
      "outputs": []
    }
  ]
}